{
 "cells": [
  {
   "cell_type": "code",
   "execution_count": 1,
   "metadata": {},
   "outputs": [],
   "source": [
    "import pandas as pd\n",
    "import sqlalchemy as sa\n",
    "\n",
    "from config import oltp_conn_string, warehouse_conn_string, oltp_tables, dimension_columns, ddl_statements"
   ]
  },
  {
   "cell_type": "code",
   "execution_count": 2,
   "metadata": {},
   "outputs": [],
   "source": [
    "conn_oltp = sa.create_engine(oltp_conn_string)\n",
    "conn_dwh = sa.create_engine(warehouse_conn_string)"
   ]
  },
  {
   "cell_type": "code",
   "execution_count": null,
   "metadata": {},
   "outputs": [],
   "source": [
    "engine = sa.create_engine(oltp_conn_string)\n",
    "\n",
    "conn = engine.connect()\n",
    "sql = sa.text(\"CREATE TABLE IF NOT EXISTS test1 (name VARCHAR(255))\")\n",
    "result = conn.execute(sql)\n",
    "conn.commit()"
   ]
  },
  {
   "cell_type": "code",
   "execution_count": 3,
   "metadata": {},
   "outputs": [
    {
     "data": {
      "text/plain": [
       "[(1110001, datetime.date(2022, 1, 20), 100101, 1202, 600002001, 250000, 15000, 41000101, 230000, 800010001),\n",
       " (1110002, datetime.date(2022, 1, 29), 100102, 1202, 600002001, 620000, 40000, 41000102, 575000, 800010002),\n",
       " (1110003, datetime.date(2022, 2, 13), 100103, 1204, 600002001, 6000000, 1000000, 41000103, 4995000, 800010003),\n",
       " (1110004, datetime.date(2022, 4, 28), 100104, 1203, 600002001, 3150000, 45000, 41000105, 3105000, 800010004),\n",
       " (1110005, datetime.date(2022, 5, 21), 100105, 1202, 600002002, 4000000, 1000000, 41000105, 2999500, 800010001),\n",
       " (1110006, datetime.date(2022, 6, 3), 100103, 1204, 600002003, 870000, 25000, None, 845000, 800010002),\n",
       " (1110007, datetime.date(2022, 6, 15), 100106, 1202, 600002001, 2000000, 0, None, 2000000, 800010002),\n",
       " (1110008, datetime.date(2022, 6, 23), 100104, 1204, 600002003, 1050000, 45000, None, 1005000, 800010004),\n",
       " (1110009, datetime.date(2022, 7, 1), 100110, 1202, 600002001, 550000, 15000, None, 535000, 800010001),\n",
       " (1110010, datetime.date(2022, 7, 21), 100102, 1204, 600002001, 490000, 35000, 41000115, 445000, 800010005)]"
      ]
     },
     "execution_count": 3,
     "metadata": {},
     "output_type": "execute_result"
    }
   ],
   "source": [
    "engine = sa.create_engine(oltp_conn_string)\n",
    "\n",
    "conn = engine.connect()\n",
    "sql = sa.text(\"SELECT * FROM tb_orders\")\n",
    "result = conn.execute(sql)\n",
    "conn.commit()\n",
    "result.fetchall()"
   ]
  },
  {
   "cell_type": "markdown",
   "metadata": {},
   "source": [
    "\n",
    "    \"insert_dim_sales\": \"\"\"\n",
    "        TRUNCATE TABLE dim_sales;\n",
    "        INSERT INTO dim_sales (order_id, order_date, user_id, user_name, payment_type, shipper_name, order_price, order_discount, voucher_name, order_total)\n",
    "        SELECT\n",
    "            fo.order_id,\n",
    "            fo.order_date,\n",
    "            fo.user_id,\n",
    "            du.user_first_name || ' ' || du.user_last_name,\n",
    "            dp.payment_name,\n",
    "            ds.shipper_name,\n",
    "            fo.order_price,\n",
    "            fo.order_discount,\n",
    "            dv.voucher_name,\n",
    "            fo.order_total\n",
    "        FROM fact_orders fo\n",
    "        INNER JOIN dim_user du ON fo.user_id = du.user_id\n",
    "        INNER JOIN dim_payment dp ON fo.payment_id = dp.payment_id\n",
    "        INNER JOIN dim_shipper ds ON fo.shipper_id = ds.shipper_id\n",
    "        INNER JOIN dim_voucher dv ON fo.voucher_id = dv.voucher_id;\"\"\""
   ]
  },
  {
   "cell_type": "code",
   "execution_count": null,
   "metadata": {},
   "outputs": [],
   "source": []
  }
 ],
 "metadata": {
  "kernelspec": {
   "display_name": "pj1env",
   "language": "python",
   "name": "python3"
  },
  "language_info": {
   "codemirror_mode": {
    "name": "ipython",
    "version": 3
   },
   "file_extension": ".py",
   "mimetype": "text/x-python",
   "name": "python",
   "nbconvert_exporter": "python",
   "pygments_lexer": "ipython3",
   "version": "3.12.7"
  }
 },
 "nbformat": 4,
 "nbformat_minor": 2
}
