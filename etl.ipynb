{
 "cells": [
  {
   "cell_type": "markdown",
   "metadata": {},
   "source": [
    "### Load Library"
   ]
  },
  {
   "cell_type": "code",
   "execution_count": 1,
   "metadata": {},
   "outputs": [],
   "source": [
    "import pandas as pd\n",
    "import sqlalchemy as sa\n",
    "\n",
    "from config import oltp_conn_string, warehouse_conn_string, oltp_tables, dimension_columns, ddl_statements"
   ]
  },
  {
   "cell_type": "code",
   "execution_count": 2,
   "metadata": {},
   "outputs": [],
   "source": [
    "conn_oltp = sa.create_engine(oltp_conn_string)\n",
    "conn_dwh = sa.create_engine(warehouse_conn_string)"
   ]
  },
  {
   "cell_type": "markdown",
   "metadata": {},
   "source": [
    "### Create Table"
   ]
  },
  {
   "cell_type": "code",
   "execution_count": 3,
   "metadata": {},
   "outputs": [],
   "source": [
    "def create_tables():\n",
    "    \"\"\"Buat table di dalam datawarehouse jika belum ada\"\"\"\n",
    "    engine = sa.create_engine(warehouse_conn_string)\n",
    "    with engine.connect() as conn:\n",
    "        for ddl in ddl_statements.values():\n",
    "            conn.execute(sa.text(ddl))\n",
    "            conn.commit()"
   ]
  },
  {
   "cell_type": "markdown",
   "metadata": {},
   "source": [
    "### Extract Data"
   ]
  },
  {
   "cell_type": "code",
   "execution_count": 4,
   "metadata": {},
   "outputs": [],
   "source": [
    "def extract_data(table_name):\n",
    "    \"\"\"Extract data dari table di database oltp\"\"\"\n",
    "    engine = sa.create_engine(oltp_conn_string)\n",
    "    query = f\"SELECT * FROM {table_name}\"\n",
    "    df = pd.read_sql(query, engine)\n",
    "    print(f'Extract Data {table_name} Success')\n",
    "    return df"
   ]
  },
  {
   "cell_type": "code",
   "execution_count": 5,
   "metadata": {},
   "outputs": [
    {
     "name": "stdout",
     "output_type": "stream",
     "text": [
      "Extract Data tb_orders Success\n",
      "Extract Data tb_user Success\n",
      "Extract Data tb_payment Success\n",
      "Extract Data tb_shipper Success\n",
      "Extract Data tb_rating Success\n",
      "Extract Data tb_voucher Success\n"
     ]
    }
   ],
   "source": [
    "df_orders = extract_data(\"tb_orders\")\n",
    "df_user = extract_data(\"tb_user\")\n",
    "df_payment = extract_data(\"tb_payment\")\n",
    "df_shipper = extract_data(\"tb_shipper\")\n",
    "df_rating = extract_data(\"tb_rating\")\n",
    "df_voucher = extract_data(\"tb_voucher\")"
   ]
  },
  {
   "cell_type": "markdown",
   "metadata": {},
   "source": [
    "### Transform Data"
   ]
  },
  {
   "cell_type": "code",
   "execution_count": 6,
   "metadata": {},
   "outputs": [],
   "source": [
    "def transform_data(df, target_table):\n",
    "    \"\"\"Transform the extracted data to match the schema of the target dimension table\"\"\"\n",
    "    columns = dimension_columns.get(target_table)\n",
    "    if columns:\n",
    "        df = df[columns]\n",
    "    print(f'Transform Data {target_table} Success')\n",
    "    return df"
   ]
  },
  {
   "cell_type": "code",
   "execution_count": 7,
   "metadata": {},
   "outputs": [
    {
     "name": "stdout",
     "output_type": "stream",
     "text": [
      "Transform Data tb_orders Success\n",
      "Transform Data tb_user Success\n",
      "Transform Data tb_payment Success\n",
      "Transform Data tb_shipper Success\n",
      "Transform Data tb_rating Success\n",
      "Transform Data tb_voucher Success\n"
     ]
    }
   ],
   "source": [
    "tdf_orders = transform_data(df_orders, \"tb_orders\")\n",
    "tdf_user = transform_data(df_user, \"tb_user\")\n",
    "tdf_payment = transform_data(df_payment, \"tb_payment\")\n",
    "tdf_shipper = transform_data(df_shipper, \"tb_shipper\")\n",
    "tdf_rating = transform_data(df_rating, \"tb_rating\")\n",
    "tdf_voucher = transform_data(df_voucher, \"tb_voucher\")"
   ]
  },
  {
   "cell_type": "markdown",
   "metadata": {},
   "source": [
    "### Transform table fact"
   ]
  },
  {
   "cell_type": "code",
   "execution_count": 9,
   "metadata": {},
   "outputs": [],
   "source": [
    "def transform_fact_orders():\n",
    "    \"\"\"Transform data for the fact_orders table\"\"\"\n",
    "    dataframes = {table: extract_data(table) for table in oltp_tables.values()}\n",
    "\n",
    "    df_orders = dataframes['tb_orders']\n",
    "    df_orders = df_orders.merge(dataframes['tb_user'], on = 'user_id')\n",
    "    df_orders = df_orders.merge(dataframes['tb_payment'], on = 'payment_id')\n",
    "    df_orders = df_orders.merge(dataframes['tb_shipper'], on = 'shipper_id')\n",
    "    df_orders = df_orders.merge(dataframes['tb_rating'], on = 'rating_id')\n",
    "    df_orders = df_orders.merge(dataframes['tb_voucher'], how='left', on = 'voucher_id')\n",
    "    df_orders.rename(columns={'user_id_x' : 'user_id'}, inplace=True)\n",
    "\n",
    "    fact_orders_columns = dimension_columns.get('fact_orders')\n",
    "    return df_orders[fact_orders_columns]"
   ]
  },
  {
   "cell_type": "code",
   "execution_count": 11,
   "metadata": {},
   "outputs": [
    {
     "name": "stdout",
     "output_type": "stream",
     "text": [
      "Extract Data tb_user Success\n",
      "Extract Data tb_payment Success\n",
      "Extract Data tb_shipper Success\n",
      "Extract Data tb_rating Success\n",
      "Extract Data tb_voucher Success\n",
      "Extract Data tb_orders Success\n"
     ]
    }
   ],
   "source": [
    "fact_orders_df = transform_fact_orders()"
   ]
  },
  {
   "cell_type": "markdown",
   "metadata": {},
   "source": [
    "### Load Data"
   ]
  },
  {
   "cell_type": "code",
   "execution_count": 12,
   "metadata": {},
   "outputs": [],
   "source": [
    "def load_data(df, table_name):\n",
    "    \"\"\"Load the transformed data into the target table in the data warehouse\"\"\"\n",
    "    engine = sa.create_engine(warehouse_conn_string)\n",
    "    with engine.connect() as conn:\n",
    "        # Masukan data baru\n",
    "        df.to_sql(table_name, conn, index=False, if_exists='append', method='multi')\n",
    "        print(f'Load Data {table_name} Success')"
   ]
  },
  {
   "cell_type": "code",
   "execution_count": 13,
   "metadata": {},
   "outputs": [
    {
     "name": "stdout",
     "output_type": "stream",
     "text": [
      "Load Data dim_user Success\n",
      "Load Data dim_payment Success\n",
      "Load Data dim_shipper Success\n",
      "Load Data dim_rating Success\n",
      "Load Data dim_voucher Success\n",
      "Load Data fact_orders Success\n"
     ]
    }
   ],
   "source": [
    "load_data(tdf_user, \"dim_user\")\n",
    "load_data(df_payment, \"dim_payment\")\n",
    "load_data(tdf_shipper, \"dim_shipper\")\n",
    "load_data(tdf_rating, \"dim_rating\")\n",
    "load_data(tdf_voucher, \"dim_voucher\")\n",
    "load_data(fact_orders_df, \"fact_orders\")"
   ]
  }
 ],
 "metadata": {
  "kernelspec": {
   "display_name": "pj1env",
   "language": "python",
   "name": "python3"
  },
  "language_info": {
   "codemirror_mode": {
    "name": "ipython",
    "version": 3
   },
   "file_extension": ".py",
   "mimetype": "text/x-python",
   "name": "python",
   "nbconvert_exporter": "python",
   "pygments_lexer": "ipython3",
   "version": "3.12.7"
  }
 },
 "nbformat": 4,
 "nbformat_minor": 2
}
